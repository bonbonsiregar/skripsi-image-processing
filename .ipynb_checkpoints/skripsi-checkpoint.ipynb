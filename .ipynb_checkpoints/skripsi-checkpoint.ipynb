{
 "cells": [
  {
   "cell_type": "code",
   "execution_count": null,
   "metadata": {},
   "outputs": [],
   "source": [
    "import cv2\n",
    "import glob\n",
    "import os\n",
    "import numpy as np\n",
    "\n",
    "image = cv2.imread(\"a-Second-stage-juveniles-of-root-knot-nematode-Meloidogyne-sp.png\")\n",
    "gray_img = cv2.cvtColor(image, cv2.COLOR_BGR2GRAY)\n",
    "gaussian_blur = cv2.GaussianBlur(gray_img,(3, 3),0)\n",
    "\n",
    "def auto_canny(image, sigma=0.33):\n",
    "    \n",
    "    v = np.median(image)\n",
    "    \n",
    "    lower = int(max(0, (1.0 - sigma) * v))\n",
    "    upper = int(min(255, (1.0 + sigma) * v))\n",
    "    edged = cv2.Canny(image, lower, upper)\n",
    " \n",
    "\n",
    "    return edged\n",
    "\n",
    "auto = auto_canny(gaussian_blur)\n",
    "\n",
    "\n",
    "cv2.namedWindow(\"normal\", cv2.WINDOW_AUTOSIZE)\n",
    "cv2.namedWindow(\"gray\", cv2.WINDOW_AUTOSIZE)\n",
    "cv2.namedWindow(\"edges\", cv2.WINDOW_AUTOSIZE)\n",
    "cv2.imshow(\"normal\", image)\n",
    "cv2.imshow(\"gray\", gray_img)\n",
    "cv2.imshow(\"edges\", np.hstack([auto]))\n",
    "cv2.waitKey(0)\n",
    "cv2.destroyAllWindows()\n"
   ]
  },
  {
   "cell_type": "code",
   "execution_count": null,
   "metadata": {},
   "outputs": [],
   "source": []
  }
 ],
 "metadata": {
  "kernelspec": {
   "display_name": "Python 3",
   "language": "python",
   "name": "python3"
  },
  "language_info": {
   "codemirror_mode": {
    "name": "ipython",
    "version": 3
   },
   "file_extension": ".py",
   "mimetype": "text/x-python",
   "name": "python",
   "nbconvert_exporter": "python",
   "pygments_lexer": "ipython3",
   "version": "3.7.3"
  }
 },
 "nbformat": 4,
 "nbformat_minor": 2
}
